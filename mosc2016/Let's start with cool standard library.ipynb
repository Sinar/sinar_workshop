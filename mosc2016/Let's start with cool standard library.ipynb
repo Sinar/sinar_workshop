{
 "cells": [
  {
   "cell_type": "markdown",
   "metadata": {},
   "source": [
    "Python have a comprehensive standard library. We just focus on json and csv. "
   ]
  },
  {
   "cell_type": "markdown",
   "metadata": {},
   "source": [
    "# csv module"
   ]
  },
  {
   "cell_type": "markdown",
   "metadata": {},
   "source": [
    "csv module is part of the standard library for long time. Here is how you use it"
   ]
  },
  {
   "cell_type": "code",
   "execution_count": 1,
   "metadata": {
    "collapsed": true
   },
   "outputs": [],
   "source": [
    "import csv"
   ]
  },
  {
   "cell_type": "markdown",
   "metadata": {},
   "source": [
    "The csv module works with file object."
   ]
  },
  {
   "cell_type": "code",
   "execution_count": 2,
   "metadata": {
    "collapsed": false
   },
   "outputs": [],
   "source": [
    "f = open(\"bil_penganggur.csv\")"
   ]
  },
  {
   "cell_type": "markdown",
   "metadata": {},
   "source": [
    "We going to load the data into the csv module. We going to use the standard reader. "
   ]
  },
  {
   "cell_type": "code",
   "execution_count": 3,
   "metadata": {
    "collapsed": false
   },
   "outputs": [],
   "source": [
    "data = csv.reader(f)"
   ]
  },
  {
   "cell_type": "markdown",
   "metadata": {},
   "source": [
    "csv.reader returns a generator object. You can either"
   ]
  },
  {
   "cell_type": "code",
   "execution_count": 4,
   "metadata": {
    "collapsed": false
   },
   "outputs": [
    {
     "name": "stdout",
     "output_type": "stream",
     "text": [
      "['Tahun', 'Negeri', 'Bilangan', 'Lelaki', 'Perempuan']\n"
     ]
    }
   ],
   "source": [
    "print(next(data))"
   ]
  },
  {
   "cell_type": "markdown",
   "metadata": {},
   "source": [
    "Or you can"
   ]
  },
  {
   "cell_type": "code",
   "execution_count": 5,
   "metadata": {
    "collapsed": false
   },
   "outputs": [
    {
     "name": "stdout",
     "output_type": "stream",
     "text": [
      "['2008', 'Selangor', '67800', '39700', '28100']\n",
      "['2008', 'Sabah', '63800', '39000', '27700']\n",
      "['2008', 'Sarawak', '51300', '33600', '17700']\n",
      "['2008', 'Perak', '33600', '18600', '15100']\n",
      "['2009', 'Selangor', '78000', '51200', '26800']\n",
      "['2009', 'Sabah', '74600', '50600', '24000']\n",
      "['2009', 'Sarawak', '46000', '29000', '17800']\n",
      "['2009', 'Johor', '43700', '27300', '16400']\n",
      "['2010', 'Selangor', '83200', '43100', '40200']\n",
      "['2010', 'Sabah', '82100', '58600', '23500']\n",
      "['2010', 'Sarawak', '48100', '28700', '19400']\n",
      "['2010', 'Johor', '34700', '24600', '10200']\n",
      "['2011', 'Sabah', '86100', '56900', '29200']\n",
      "['2011', 'Selangor', '65500', '36800', '28700']\n",
      "['2011', 'Sarawak', '50200', '32400', '17800']\n",
      "['2011', 'Johor', '37600', '25300', '12300']\n",
      "['2012', 'Sabah', '85300', '56000', '29300']\n",
      "['2012', 'Selangor', '66300', '41300', '25000']\n",
      "['2012', 'Johor', '48200', '33000', '15100']\n",
      "['2012', 'Sarawak', '40800', '25900', '15000']\n",
      "['2013', 'Sabah', '86000', '53700', '32300']\n",
      "['2013', 'Selangor', '71500', '43400', '28100']\n",
      "['2013', 'Johor', '45600', '26800', '18900']\n",
      "['2013', 'Sarawak', '45500', '26700', '18800']\n"
     ]
    }
   ],
   "source": [
    "for i in data:\n",
    "    print(i)"
   ]
  },
  {
   "cell_type": "markdown",
   "metadata": {},
   "source": [
    "There is a class called DictReader"
   ]
  },
  {
   "cell_type": "code",
   "execution_count": 7,
   "metadata": {
    "collapsed": false
   },
   "outputs": [
    {
     "name": "stdout",
     "output_type": "stream",
     "text": [
      "{'Tahun': '2008', 'Perempuan': '28100', 'Bilangan': '67800', 'Negeri': 'Selangor', 'Lelaki': '39700'}\n"
     ]
    }
   ],
   "source": [
    "# Open file again\n",
    "f = open(\"bil_penganggur.csv\")\n",
    "data = csv.DictReader(f)\n",
    "print(next(data))"
   ]
  },
  {
   "cell_type": "markdown",
   "metadata": {
    "collapsed": true
   },
   "source": [
    "You can also write to csv file"
   ]
  },
  {
   "cell_type": "code",
   "execution_count": 8,
   "metadata": {
    "collapsed": false
   },
   "outputs": [],
   "source": [
    "f = open(\"output.csv\", \"w\")\n",
    "writer = csv.writer(f)\n",
    "writer.writerow([1, \"test data\", \"tested\"])\n",
    "f.close()"
   ]
  },
  {
   "cell_type": "markdown",
   "metadata": {},
   "source": [
    "# json module"
   ]
  },
  {
   "cell_type": "markdown",
   "metadata": {},
   "source": [
    "Python also comes with a json module. "
   ]
  },
  {
   "cell_type": "code",
   "execution_count": 9,
   "metadata": {
    "collapsed": true
   },
   "outputs": [],
   "source": [
    "import json"
   ]
  },
  {
   "cell_type": "markdown",
   "metadata": {},
   "source": [
    "Cool thing about json. It map very well with python data structure"
   ]
  },
  {
   "cell_type": "code",
   "execution_count": 9,
   "metadata": {
    "collapsed": false
   },
   "outputs": [
    {
     "data": {
      "text/plain": [
       "'{\"a\": 1}'"
      ]
     },
     "execution_count": 9,
     "metadata": {},
     "output_type": "execute_result"
    }
   ],
   "source": [
    "json.dumps({\"a\":1})"
   ]
  },
  {
   "cell_type": "code",
   "execution_count": 10,
   "metadata": {
    "collapsed": false
   },
   "outputs": [
    {
     "data": {
      "text/plain": [
       "{u'a': 1}"
      ]
     },
     "execution_count": 10,
     "metadata": {},
     "output_type": "execute_result"
    }
   ],
   "source": [
    "json.loads('{\"a\": 1}')"
   ]
  },
  {
   "cell_type": "markdown",
   "metadata": {},
   "source": [
    "json module can also read from file"
   ]
  },
  {
   "cell_type": "code",
   "execution_count": 11,
   "metadata": {
    "collapsed": false
   },
   "outputs": [
    {
     "name": "stdout",
     "output_type": "stream",
     "text": [
      "{u'result': {u'identifiers': [], u'links': [], u'honorific_suffix': None, u'image': None, u'updated_at': u'2015-12-16T06:05:03.508429Z', u'patronymic_name': None, u'national_identity': None, u'language_code': u'en', u'summary': u'', u'id': u'55b4c72c98f2c81a501e11f4', u'biography': u'', u'additional_name': None, u'other_names': [], u'honorific_prefix': None, u'given_name': None, u'email': None, u'contact_details': [], u'family_name': None, u'name': u'Ng Eng Tee', u'gender': u'Male', u'created_at': u'2015-12-16T06:05:03.508384Z', u'death_date': None, u'sort_name': None, u'memberships': [{u'member': None, u'area_id': None, u'contact_details': [], u'end_date': None, u'links': [], u'post_id': u'55b4c797650ae4ca51860db3', u'on_behalf_of_id': None, u'created_at': u'2015-12-21T02:34:17.914969Z', u'language_code': u'en', u'updated_at': u'2016-04-19T02:20:29.259927Z', u'start_date': None, u'organization_id': u'55b4a7e46f9fede250a314f6', u'person': {u'family_name': None, u'name': u'Ng Eng Tee', u'honorific_suffix': None, u'additional_name': None, u'gender': u'Male', u'created_at': u'2015-12-16T06:05:03.508384Z', u'death_date': None, u'updated_at': u'2015-12-16T06:05:03.508429Z', u'id': u'55b4c72c98f2c81a501e11f4', u'honorific_prefix': None, u'email': None, u'sort_name': None, u'summary': u'', u'given_name': None, u'national_identity': None, u'language_code': u'en', u'birth_date': None, u'patronymic_name': None, u'image': None, u'biography': u''}, u'on_behalf_of': None, u'role': None, u'member_id': None, u'person_id': u'55b4c72c98f2c81a501e11f4', u'organization': {u'dissolution_date': None, u'created_at': u'2015-12-17T09:23:38.845721Z', u'area_id': None, u'name': u'UM Land Board of Directors', u'parent': u'55b4a79998f2c81a501d0051', u'area': None, u'image': None, u'classification': None, u'founding_date': None, u'abstract': None, u'updated_at': u'2015-12-17T09:23:38.845777Z', u'parent_id': u'55b4a79998f2c81a501d0051', u'language_code': u'en', u'id': u'55b4a7e46f9fede250a314f6', u'description': None}, u'post': {u'area_id': None, u'end_date': None, u'area': None, u'created_at': u'2015-12-21T01:56:52.180145Z', u'updated_at': u'2015-12-21T01:56:52.180190Z', u'start_date': None, u'organization_id': u'55b4a7e46f9fede250a314f6', u'role': u'Director', u'language_code': u'en', u'organization': u'55b4a7e46f9fede250a314f6', u'label': u'Deputy Chairman', u'id': u'55b4c797650ae4ca51860db3'}, u'label': None, u'id': u'55b4c7b2650ae4ca51860dcb'}], u'birth_date': None}}\n"
     ]
    }
   ],
   "source": [
    "f = open(\"poptit_person_55b4c72c98f2c81a501e11f4.json\")\n",
    "print(json.load(f))"
   ]
  },
  {
   "cell_type": "markdown",
   "metadata": {
    "collapsed": true
   },
   "source": [
    "# statistics module"
   ]
  },
  {
   "cell_type": "markdown",
   "metadata": {},
   "source": [
    "Starting with python 3.4 there is a statistic modules that is part of the standard library. You can use this starting with"
   ]
  },
  {
   "cell_type": "code",
   "execution_count": 2,
   "metadata": {
    "collapsed": false
   },
   "outputs": [],
   "source": [
    "import statistics"
   ]
  },
  {
   "cell_type": "code",
   "execution_count": 5,
   "metadata": {
    "collapsed": false
   },
   "outputs": [],
   "source": [
    "l = [10, 20, 5, 25, 2]\n"
   ]
  },
  {
   "cell_type": "code",
   "execution_count": 6,
   "metadata": {
    "collapsed": false
   },
   "outputs": [
    {
     "name": "stdout",
     "output_type": "stream",
     "text": [
      "10\n"
     ]
    }
   ],
   "source": [
    "print(statistics.median(l))"
   ]
  },
  {
   "cell_type": "code",
   "execution_count": 7,
   "metadata": {
    "collapsed": false
   },
   "outputs": [
    {
     "ename": "StatisticsError",
     "evalue": "no unique mode; found 5 equally common values",
     "output_type": "error",
     "traceback": [
      "\u001b[1;31m---------------------------------------------------------------------------\u001b[0m",
      "\u001b[1;31mStatisticsError\u001b[0m                           Traceback (most recent call last)",
      "\u001b[1;32m<ipython-input-7-24f474f8a380>\u001b[0m in \u001b[0;36m<module>\u001b[1;34m()\u001b[0m\n\u001b[1;32m----> 1\u001b[1;33m \u001b[0mprint\u001b[0m\u001b[1;33m(\u001b[0m\u001b[0mstatistics\u001b[0m\u001b[1;33m.\u001b[0m\u001b[0mmode\u001b[0m\u001b[1;33m(\u001b[0m\u001b[0ml\u001b[0m\u001b[1;33m)\u001b[0m\u001b[1;33m)\u001b[0m\u001b[1;33m\u001b[0m\u001b[0m\n\u001b[0m",
      "\u001b[1;32m/usr/lib/python3.5/statistics.py\u001b[0m in \u001b[0;36mmode\u001b[1;34m(data)\u001b[0m\n\u001b[0;32m    472\u001b[0m     \u001b[1;32melif\u001b[0m \u001b[0mtable\u001b[0m\u001b[1;33m:\u001b[0m\u001b[1;33m\u001b[0m\u001b[0m\n\u001b[0;32m    473\u001b[0m         raise StatisticsError(\n\u001b[1;32m--> 474\u001b[1;33m                 \u001b[1;34m'no unique mode; found %d equally common values'\u001b[0m \u001b[1;33m%\u001b[0m \u001b[0mlen\u001b[0m\u001b[1;33m(\u001b[0m\u001b[0mtable\u001b[0m\u001b[1;33m)\u001b[0m\u001b[1;33m\u001b[0m\u001b[0m\n\u001b[0m\u001b[0;32m    475\u001b[0m                 )\n\u001b[0;32m    476\u001b[0m     \u001b[1;32melse\u001b[0m\u001b[1;33m:\u001b[0m\u001b[1;33m\u001b[0m\u001b[0m\n",
      "\u001b[1;31mStatisticsError\u001b[0m: no unique mode; found 5 equally common values"
     ]
    }
   ],
   "source": [
    "print(statistics.mode(l))"
   ]
  },
  {
   "cell_type": "code",
   "execution_count": 8,
   "metadata": {
    "collapsed": false
   },
   "outputs": [
    {
     "name": "stdout",
     "output_type": "stream",
     "text": [
      "12.4\n"
     ]
    }
   ],
   "source": [
    "print(statistics.mean(l))"
   ]
  },
  {
   "cell_type": "code",
   "execution_count": null,
   "metadata": {
    "collapsed": true
   },
   "outputs": [],
   "source": []
  }
 ],
 "metadata": {
  "kernelspec": {
   "display_name": "Python 3",
   "language": "python",
   "name": "python3"
  },
  "language_info": {
   "codemirror_mode": {
    "name": "ipython",
    "version": 3
   },
   "file_extension": ".py",
   "mimetype": "text/x-python",
   "name": "python",
   "nbconvert_exporter": "python",
   "pygments_lexer": "ipython3",
   "version": "3.5.1+"
  }
 },
 "nbformat": 4,
 "nbformat_minor": 0
}
