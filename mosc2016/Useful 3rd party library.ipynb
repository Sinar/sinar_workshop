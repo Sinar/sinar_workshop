{
 "cells": [
  {
   "cell_type": "markdown",
   "metadata": {},
   "source": [
    "# Requests\n",
    "\n",
    "A http client library, very easy to use. People use it with another tools for scraping websites. \n",
    "\n"
   ]
  },
  {
   "cell_type": "code",
   "execution_count": 1,
   "metadata": {
    "collapsed": true
   },
   "outputs": [],
   "source": [
    "import requests"
   ]
  },
  {
   "cell_type": "code",
   "execution_count": 3,
   "metadata": {
    "collapsed": false
   },
   "outputs": [
    {
     "name": "stdout",
     "output_type": "stream",
     "text": [
      "{u'result': {u'identifiers': [], u'links': [], u'honorific_suffix': None, u'image': None, u'updated_at': u'2015-12-16T06:05:03.508429Z', u'patronymic_name': None, u'national_identity': None, u'language_code': u'en', u'summary': u'', u'id': u'55b4c72c98f2c81a501e11f4', u'biography': u'', u'additional_name': None, u'other_names': [], u'honorific_prefix': None, u'given_name': None, u'email': None, u'contact_details': [], u'family_name': None, u'name': u'Ng Eng Tee', u'gender': u'Male', u'created_at': u'2015-12-16T06:05:03.508384Z', u'death_date': None, u'sort_name': None, u'memberships': [{u'member': None, u'area_id': None, u'contact_details': [], u'end_date': None, u'links': [], u'post_id': u'55b4c797650ae4ca51860db3', u'on_behalf_of_id': None, u'created_at': u'2015-12-21T02:34:17.914969Z', u'language_code': u'en', u'updated_at': u'2016-04-19T02:20:29.259927Z', u'start_date': None, u'organization_id': u'55b4a7e46f9fede250a314f6', u'person': {u'family_name': None, u'name': u'Ng Eng Tee', u'honorific_suffix': None, u'additional_name': None, u'gender': u'Male', u'created_at': u'2015-12-16T06:05:03.508384Z', u'death_date': None, u'updated_at': u'2015-12-16T06:05:03.508429Z', u'id': u'55b4c72c98f2c81a501e11f4', u'honorific_prefix': None, u'email': None, u'sort_name': None, u'summary': u'', u'given_name': None, u'national_identity': None, u'language_code': u'en', u'birth_date': None, u'patronymic_name': None, u'image': None, u'biography': u''}, u'on_behalf_of': None, u'role': None, u'member_id': None, u'person_id': u'55b4c72c98f2c81a501e11f4', u'organization': {u'dissolution_date': None, u'created_at': u'2015-12-17T09:23:38.845721Z', u'area_id': None, u'name': u'UM Land Board of Directors', u'parent': u'55b4a79998f2c81a501d0051', u'area': None, u'image': None, u'classification': None, u'founding_date': None, u'abstract': None, u'updated_at': u'2015-12-17T09:23:38.845777Z', u'parent_id': u'55b4a79998f2c81a501d0051', u'language_code': u'en', u'id': u'55b4a7e46f9fede250a314f6', u'description': None}, u'post': {u'area_id': None, u'end_date': None, u'area': None, u'created_at': u'2015-12-21T01:56:52.180145Z', u'updated_at': u'2015-12-21T01:56:52.180190Z', u'start_date': None, u'organization_id': u'55b4a7e46f9fede250a314f6', u'role': u'Director', u'language_code': u'en', u'organization': u'55b4a7e46f9fede250a314f6', u'label': u'Deputy Chairman', u'id': u'55b4c797650ae4ca51860db3'}, u'label': None, u'id': u'55b4c7b2650ae4ca51860dcb'}], u'birth_date': None}}\n"
     ]
    }
   ],
   "source": [
    "r = requests.get(\"http://api.popit.sinarproject.org/en/persons/55b4c72c98f2c81a501e11f4.json\")\n",
    "print(r.json())"
   ]
  },
  {
   "cell_type": "markdown",
   "metadata": {},
   "source": [
    "# Numpy"
   ]
  },
  {
   "cell_type": "markdown",
   "metadata": {},
   "source": [
    "A library for working in matrixs. It is heavily used in scientific computation. We focus on stats tools here, because this is what we use mostly at sinar. "
   ]
  },
  {
   "cell_type": "code",
   "execution_count": 1,
   "metadata": {
    "collapsed": true
   },
   "outputs": [],
   "source": [
    "import numpy"
   ]
  },
  {
   "cell_type": "code",
   "execution_count": 2,
   "metadata": {
    "collapsed": false
   },
   "outputs": [
    {
     "data": {
      "text/plain": [
       "11.0"
      ]
     },
     "execution_count": 2,
     "metadata": {},
     "output_type": "execute_result"
    }
   ],
   "source": [
    "numpy.mean([5, 25, 2, 30, 3,1])"
   ]
  },
  {
   "cell_type": "code",
   "execution_count": 3,
   "metadata": {
    "collapsed": false
   },
   "outputs": [
    {
     "data": {
      "text/plain": [
       "4.0"
      ]
     },
     "execution_count": 3,
     "metadata": {},
     "output_type": "execute_result"
    }
   ],
   "source": [
    "numpy.median([5, 25, 2, 30, 3,1])"
   ]
  },
  {
   "cell_type": "markdown",
   "metadata": {},
   "source": [
    "# Matplotlib"
   ]
  },
  {
   "cell_type": "markdown",
   "metadata": {},
   "source": [
    "Matplotlib is a library used to plot data in python. It can plot data in here or export as a standard image. The plot is static. But it commonly used in the community."
   ]
  },
  {
   "cell_type": "code",
   "execution_count": 7,
   "metadata": {
    "collapsed": true
   },
   "outputs": [],
   "source": [
    "%matplotlib inline"
   ]
  },
  {
   "cell_type": "code",
   "execution_count": 12,
   "metadata": {
    "collapsed": false
   },
   "outputs": [
    {
     "data": {
      "image/png": "[encoded data removed]",
      "text/plain": [
       "<matplotlib.figure.Figure at 0x7f8c4e908da0>"
      ]
     },
     "metadata": {},
     "output_type": "display_data"
    }
   ],
   "source": [
    "import matplotlib.pyplot as plt\n",
    "plt.plot([1,2,3,4])\n",
    "plt.ylabel('some numbers')\n",
    "plt.show()"
   ]
  },
  {
   "cell_type": "code",
   "execution_count": null,
   "metadata": {
    "collapsed": true
   },
   "outputs": [],
   "source": []
  }
 ],
 "metadata": {
  "kernelspec": {
   "display_name": "Python 3",
   "language": "python",
   "name": "python3"
  },
  "language_info": {
   "codemirror_mode": {
    "name": "ipython",
    "version": 3
   },
   "file_extension": ".py",
   "mimetype": "text/x-python",
   "name": "python",
   "nbconvert_exporter": "python",
   "pygments_lexer": "ipython3",
   "version": "3.5.1+"
  }
 },
 "nbformat": 4,
 "nbformat_minor": 0
}
